{
 "cells": [
  {
   "cell_type": "markdown",
   "id": "e9c01146",
   "metadata": {},
   "source": [
    "# Performance Results: Matrix Multiplication & Multithreading"
   ]
  },
  {
   "cell_type": "markdown",
   "id": "454018db",
   "metadata": {},
   "source": [
    "### we first import the module that we will be using. "
   ]
  },
  {
   "cell_type": "code",
   "execution_count": 29,
   "id": "c8da4153",
   "metadata": {},
   "outputs": [],
   "source": [
    "import threading\n",
    "import time\n",
    "import numpy as np"
   ]
  },
  {
   "cell_type": "markdown",
   "id": "e3a6b9e3",
   "metadata": {},
   "source": [
    "### Let consider a 3 by 3 Matrix A and B with integer value ranging from 0 to 9 "
   ]
  },
  {
   "cell_type": "code",
   "execution_count": 30,
   "id": "60361a6c",
   "metadata": {
    "scrolled": true
   },
   "outputs": [
    {
     "name": "stdout",
     "output_type": "stream",
     "text": [
      "matrix A = \n",
      " [[8 4 1]\n",
      " [4 9 6]\n",
      " [3 4 8]]\n",
      "matrix B = \n",
      " [[4 3 2]\n",
      " [3 8 6]\n",
      " [1 6 3]]\n"
     ]
    }
   ],
   "source": [
    "# Create a random 3 by 3 Integer Matrix A and B \n",
    "A = np.random.randint(10, size=(3,3))\n",
    "print(\"matrix A = \\n\",A)\n",
    "B = np.random.randint(10, size=(3,3))\n",
    "print(\"matrix B = \\n\",B)"
   ]
  },
  {
   "cell_type": "markdown",
   "id": "ce43e684",
   "metadata": {},
   "source": [
    "### Our resulting Matrix C is set to be the Zero Matrix of a 3 by 3.  "
   ]
  },
  {
   "cell_type": "code",
   "execution_count": 31,
   "id": "43c72c2d",
   "metadata": {},
   "outputs": [
    {
     "name": "stdout",
     "output_type": "stream",
     "text": [
      "matrix C = \n",
      " [[0 0 0]\n",
      " [0 0 0]\n",
      " [0 0 0]]\n"
     ]
    }
   ],
   "source": [
    "#Set Matrix C to be the Zero Matrix\n",
    "C = np.zeros([3, 3], dtype = int)\n",
    "print(\"matrix C = \\n\",C)"
   ]
  },
  {
   "cell_type": "markdown",
   "id": "17698eb7",
   "metadata": {},
   "source": [
    "## Single Thread Performance Results"
   ]
  },
  {
   "cell_type": "markdown",
   "id": "2e5f8485",
   "metadata": {},
   "source": [
    "### In the following code we call this class Thread1. This class will compute A x B and hold its resulting output in Matrix C. "
   ]
  },
  {
   "cell_type": "code",
   "execution_count": 32,
   "id": "2b6e823b",
   "metadata": {},
   "outputs": [],
   "source": [
    "#create a threading class \n",
    "class Thread1(threading.Thread):\n",
    "    def __init__(self, id, name):\n",
    "        threading.Thread.__init__(self)\n",
    "        self.id = id\n",
    "        self.name = name\n",
    "\n",
    "    def run(self):\n",
    "        print(\"Starting \" + self.name + \"\\n\")\n",
    "        C[0][0] = A[0][0] * B[0][0] + A[0][1] * B[1][0] + A[0][2] * B[2][0]\n",
    "        C[0][1] = A[0][0] * B[0][1] + A[0][1] * B[1][1] + A[0][2] * B[2][1]\n",
    "        C[0][2] = A[0][0] * B[0][2] + A[0][1] * B[1][2] + A[0][2] * B[2][2]\n",
    "        \n",
    "        C[1][0] = A[1][0] * B[0][0] + A[1][1] * B[1][0] + A[1][2] * B[2][0]\n",
    "        C[1][1] = A[1][0] * B[0][1] + A[1][1] * B[1][1] + A[1][2] * B[2][1]\n",
    "        C[1][2] = A[1][0] * B[0][2] + A[1][1] * B[1][2] + A[1][2] * B[2][2]\n",
    "        \n",
    "        C[2][0] = A[2][0] * B[0][0] + A[2][1] * B[1][0] + A[2][2] * B[2][0]\n",
    "        C[2][1] = A[2][0] * B[0][1] + A[2][1] * B[1][1] + A[2][2] * B[2][1]\n",
    "        C[2][2] = A[2][0] * B[0][2] + A[2][1] * B[1][2] + A[2][2] * B[2][2]\n",
    "        print(\"End \" + self.name + \"\\n\")\n"
   ]
  },
  {
   "cell_type": "markdown",
   "id": "78fe6896",
   "metadata": {},
   "source": [
    "We will than start a timer. Where time.time() is counted in secound but since the resulting time will be small. We will mutiply the resulting time by 1000."
   ]
  },
  {
   "cell_type": "code",
   "execution_count": 33,
   "id": "d3d5f878",
   "metadata": {},
   "outputs": [
    {
     "name": "stdout",
     "output_type": "stream",
     "text": [
      "Using a single thread \n",
      "\n",
      "Starting Thread 1\n",
      "\n",
      "End Thread 1\n",
      "\n",
      "Execution Time:  1.000244140625\n",
      "[[ 45  62  43]\n",
      " [ 49 120  80]\n",
      " [ 32  89  54]]\n"
     ]
    }
   ],
   "source": [
    "print(\"Using a single thread \\n\")\n",
    "start = (time.time() * 1000)\n",
    "thread1= Thread1(1, \"Thread 1\")\n",
    "thread1.start()\n",
    "thread1.join()\n",
    "print(\"Execution Time: \", (time.time() * 1000) - start)\n",
    "print(C)"
   ]
  },
  {
   "cell_type": "markdown",
   "id": "f556c081",
   "metadata": {},
   "source": [
    "## 2 - Threads Performance Results"
   ]
  },
  {
   "cell_type": "markdown",
   "id": "aa735eee",
   "metadata": {},
   "source": [
    "### Here we reset the C matrix to be the zero matrix"
   ]
  },
  {
   "cell_type": "code",
   "execution_count": 34,
   "id": "ddb1f4cd",
   "metadata": {},
   "outputs": [
    {
     "name": "stdout",
     "output_type": "stream",
     "text": [
      "[[0 0 0]\n",
      " [0 0 0]\n",
      " [0 0 0]]\n"
     ]
    }
   ],
   "source": [
    "# reset C back to the zero matrix\n",
    "C = np.zeros([3, 3], dtype = int)\n",
    "print(C)"
   ]
  },
  {
   "cell_type": "markdown",
   "id": "8b5d3ae1",
   "metadata": {},
   "source": [
    "##### The following code. We created two total threads class.\n",
    "Thread2 have a total of 4 computation\n",
    "Thread3 have a total of 5 computation\n",
    "This is because 9 is that divied into a whole number.\n",
    "Here we will test the result of using two threads. "
   ]
  },
  {
   "cell_type": "code",
   "execution_count": 36,
   "id": "a73dd289",
   "metadata": {},
   "outputs": [],
   "source": [
    "class Thread2(threading.Thread):\n",
    "    def __init__(self, id, name):\n",
    "        threading.Thread.__init__(self)\n",
    "        self.id = id\n",
    "        self.name = name\n",
    "\n",
    "    def run(self):\n",
    "        # this thread will be assign do 4 computation\n",
    "        print(\"Starting \" + self.name + \"\\n\")\n",
    "        C[0][0] = A[0][0] * B[0][0] + A[0][1] * B[1][0] + A[0][2] * B[2][0]\n",
    "        C[0][1] = A[0][0] * B[0][1] + A[0][1] * B[1][1] + A[0][2] * B[2][1]\n",
    "        C[0][2] = A[0][0] * B[0][2] + A[0][1] * B[1][2] + A[0][2] * B[2][2]\n",
    "        C[1][0] = A[1][0] * B[0][0] + A[1][1] * B[1][0] + A[1][2] * B[2][0]\n",
    "        \n",
    "        print(\"End \" + self.name + \"\\n\")\n"
   ]
  },
  {
   "cell_type": "code",
   "execution_count": 37,
   "id": "b56541b1",
   "metadata": {},
   "outputs": [],
   "source": [
    "class Thread3(threading.Thread):\n",
    "    def __init__(self, id, name):\n",
    "        threading.Thread.__init__(self)\n",
    "        self.id = id\n",
    "        self.name = name\n",
    "    # this thread will have to do a additon computation since 9 / 2 have a reminder of 1\n",
    "    # therefore 4 + 1\n",
    "    def run(self):\n",
    "        print(\"Starting \" + self.name + \"\\n\")\n",
    "        C[1][1] = A[1][0] * B[0][1] + A[1][1] * B[1][1] + A[1][2] * B[2][1]\n",
    "        C[1][2] = A[1][0] * B[0][2] + A[1][1] * B[1][2] + A[1][2] * B[2][2] \n",
    "        C[2][0] = A[2][0] * B[0][0] + A[2][1] * B[1][0] + A[2][2] * B[2][0]\n",
    "        C[2][1] = A[2][0] * B[0][1] + A[2][1] * B[1][1] + A[2][2] * B[2][1]\n",
    "        C[2][2] = A[2][0] * B[0][2] + A[2][1] * B[1][2] + A[2][2] * B[2][2]\n",
    "        print(\"End \" + self.name + \"\\n\")\n"
   ]
  },
  {
   "cell_type": "markdown",
   "id": "85d89cf0",
   "metadata": {},
   "source": [
    "### In the following it show a result that is much slower then running a single thread. "
   ]
  },
  {
   "cell_type": "code",
   "execution_count": 38,
   "id": "09aae1e1",
   "metadata": {},
   "outputs": [
    {
     "name": "stdout",
     "output_type": "stream",
     "text": [
      "Using 2 threads \n",
      "\n",
      "Starting Thread 2\n",
      "\n",
      "End Thread 2\n",
      "\n",
      "Starting Thread 3\n",
      "\n",
      "End Thread 3\n",
      "\n",
      "Execution Time:  1.00341796875\n",
      "[[ 45  62  43]\n",
      " [ 49 120  80]\n",
      " [ 32  89  54]]\n"
     ]
    }
   ],
   "source": [
    "print(\"Using 2 threads \\n\")\n",
    "start = (time.time() * 1000)\n",
    "thread2 = Thread2(2, \"Thread 2\")\n",
    "thread3 = Thread3(3, \"Thread 3\")\n",
    "thread2.start()\n",
    "thread3.start()\n",
    "thread2.join()\n",
    "thread3.join()\n",
    "print(\"Execution Time: \", (time.time() * 1000) - start)\n",
    "print(C)"
   ]
  },
  {
   "cell_type": "markdown",
   "id": "adf7c35a",
   "metadata": {},
   "source": [
    "## Three Threads Performance Results"
   ]
  },
  {
   "cell_type": "markdown",
   "id": "531d0b73",
   "metadata": {},
   "source": [
    "### Here we reset the C matrix to be the zero matrix. "
   ]
  },
  {
   "cell_type": "code",
   "execution_count": 39,
   "id": "36561d6e",
   "metadata": {},
   "outputs": [
    {
     "name": "stdout",
     "output_type": "stream",
     "text": [
      "[[0 0 0]\n",
      " [0 0 0]\n",
      " [0 0 0]]\n"
     ]
    }
   ],
   "source": [
    "# reset C back to the zero matrix\n",
    "C = np.zeros([3, 3], dtype = int)\n",
    "print(C)"
   ]
  },
  {
   "cell_type": "markdown",
   "id": "f028d10a",
   "metadata": {},
   "source": [
    "The following code. We created three total thread class.\n",
    "Thread4, Thread5, and Thread6 have a total of 3 computation to complete each. "
   ]
  },
  {
   "cell_type": "code",
   "execution_count": 40,
   "id": "bd4cbd23",
   "metadata": {},
   "outputs": [],
   "source": [
    "class Thread4(threading.Thread):\n",
    "    def __init__(self, id, name):\n",
    "        threading.Thread.__init__(self)\n",
    "        self.id = id\n",
    "        self.name = name\n",
    "\n",
    "    def run(self):\n",
    "        # this thread will be assign do 3 computation\n",
    "        print(\"Starting \" + self.name + \"\\n\")\n",
    "        C[0][0] = A[0][0] * B[0][0] + A[0][1] * B[1][0] + A[0][2] * B[2][0]\n",
    "        C[0][1] = A[0][0] * B[0][1] + A[0][1] * B[1][1] + A[0][2] * B[2][1]\n",
    "        C[0][2] = A[0][0] * B[0][2] + A[0][1] * B[1][2] + A[0][2] * B[2][2]\n",
    "        \n",
    "        print(\"End \" + self.name + \"\\n\")"
   ]
  },
  {
   "cell_type": "code",
   "execution_count": 41,
   "id": "dc4712b6",
   "metadata": {},
   "outputs": [],
   "source": [
    "class Thread5(threading.Thread):\n",
    "    def __init__(self, id, name):\n",
    "        threading.Thread.__init__(self)\n",
    "        self.id = id\n",
    "        self.name = name\n",
    "\n",
    "    def run(self):\n",
    "        # this thread will be assign do 3 computation\n",
    "        print(\"Starting \" + self.name + \"\\n\")\n",
    "        C[1][0] = A[1][0] * B[0][0] + A[1][1] * B[1][0] + A[1][2] * B[2][0]\n",
    "        C[1][1] = A[1][0] * B[0][1] + A[1][1] * B[1][1] + A[1][2] * B[2][1]\n",
    "        C[1][2] = A[1][0] * B[0][2] + A[1][1] * B[1][2] + A[1][2] * B[2][2]\n",
    "        \n",
    "        \n",
    "        print(\"End \" + self.name + \"\\n\")"
   ]
  },
  {
   "cell_type": "code",
   "execution_count": 42,
   "id": "1479adc9",
   "metadata": {},
   "outputs": [],
   "source": [
    "class Thread6(threading.Thread):\n",
    "    def __init__(self, id, name):\n",
    "        threading.Thread.__init__(self)\n",
    "        self.id = id\n",
    "        self.name = name\n",
    "\n",
    "    def run(self):\n",
    "        # this thread will be assign do 3 computation\n",
    "        print(\"Starting \" + self.name + \"\\n\")\n",
    "        C[2][0] = A[2][0] * B[0][0] + A[2][1] * B[1][0] + A[2][2] * B[2][0]\n",
    "        C[2][1] = A[2][0] * B[0][1] + A[2][1] * B[1][1] + A[2][2] * B[2][1]\n",
    "        C[2][2] = A[2][0] * B[0][2] + A[2][1] * B[1][2] + A[2][2] * B[2][2]\n",
    "        print(\"End \" + self.name + \"\\n\")"
   ]
  },
  {
   "cell_type": "markdown",
   "id": "2502562f",
   "metadata": {},
   "source": [
    "### Like with the previous excution time. The following result is much slower then running a single thread. "
   ]
  },
  {
   "cell_type": "code",
   "execution_count": 43,
   "id": "f82a1411",
   "metadata": {
    "scrolled": false
   },
   "outputs": [
    {
     "name": "stdout",
     "output_type": "stream",
     "text": [
      "Using 3 threads \n",
      "\n",
      "Starting Thread 4\n",
      "\n",
      "End Thread 4\n",
      "\n",
      "Starting Thread 5\n",
      "\n",
      "End Thread 5\n",
      "\n",
      "Starting Thread 6\n",
      "\n",
      "End Thread 6\n",
      "\n",
      "Execution Time:  2.004150390625\n",
      "[[ 45  62  43]\n",
      " [ 49 120  80]\n",
      " [ 32  89  54]]\n"
     ]
    }
   ],
   "source": [
    "print(\"Using 3 threads \\n\")\n",
    "start = (time.time() * 1000)\n",
    "thread4= Thread4(4, \"Thread 4\")\n",
    "thread5= Thread5(5, \"Thread 5\")\n",
    "thread6= Thread6(6, \"Thread 6\")\n",
    "\n",
    "thread4.start()\n",
    "thread5.start()\n",
    "thread6.start()\n",
    "thread4.join()\n",
    "thread5.join()\n",
    "thread6.join()\n",
    "print(\"Execution Time: \", (time.time() * 1000) - start)\n",
    "print(C)"
   ]
  },
  {
   "cell_type": "markdown",
   "id": "44ed3834",
   "metadata": {},
   "source": [
    "## Performance Results Conclusion"
   ]
  },
  {
   "cell_type": "markdown",
   "id": "1b68c737",
   "metadata": {},
   "source": [
    "The resulting time when using multiple threads seem to be slower than running on a single thread. After further investigation, Python threading module only let one execution to run at a time. What it's happening here is that each execution is occurring, and threads are switching to one another. This makes the resulting execution time of multiple threads much slower than single thread.                                                                                                                          [Reference(Rossum & Drake Jr)]"
   ]
  },
  {
   "cell_type": "code",
   "execution_count": null,
   "id": "5f9b23e3",
   "metadata": {},
   "outputs": [],
   "source": []
  }
 ],
 "metadata": {
  "kernelspec": {
   "display_name": "Python 3 (ipykernel)",
   "language": "python",
   "name": "python3"
  },
  "language_info": {
   "codemirror_mode": {
    "name": "ipython",
    "version": 3
   },
   "file_extension": ".py",
   "mimetype": "text/x-python",
   "name": "python",
   "nbconvert_exporter": "python",
   "pygments_lexer": "ipython3",
   "version": "3.9.13"
  }
 },
 "nbformat": 4,
 "nbformat_minor": 5
}
